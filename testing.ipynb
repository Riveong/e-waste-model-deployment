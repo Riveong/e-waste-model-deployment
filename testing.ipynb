{
 "cells": [
  {
   "cell_type": "code",
   "execution_count": 11,
   "metadata": {},
   "outputs": [
    {
     "data": {
      "text/plain": [
       "<Blob: techpybarahh, testupload, 1684177648252286>"
      ]
     },
     "execution_count": 11,
     "metadata": {},
     "output_type": "execute_result"
    }
   ],
   "source": [
    "import os\n",
    "from google.cloud import storage\n",
    "\n",
    "os.environ['GOOGLE_APPLICATION_CREDENTIALS'] = 'project-aing-dcea2bba16f3.json'\n",
    "\n",
    "storageClient = storage.Client()\n",
    "\n",
    "dir(storageClient)\n",
    "\n",
    "bucketName = 'techpybarahh'\n",
    "bucket = storageClient.bucket(bucketName)\n",
    "vars(bucket)\n",
    "\n",
    "getBuck = storageClient.get_bucket(bucketName)\n",
    "\n",
    "def writeBucket(blobName, filePath, bucketName):\n",
    "    bucket = storageClient.get_bucket(bucketName)\n",
    "    blob = bucket.blob(blobName)\n",
    "    blob.upload_from_filename(filePath)\n",
    "    return blob\n",
    "\n",
    "\n",
    "daFile = 'testfile.jpg'\n",
    "writeBucket(\"testupload\",daFile,bucketName)\n"
   ]
  },
  {
   "cell_type": "code",
   "execution_count": 18,
   "metadata": {},
   "outputs": [
    {
     "name": "stdout",
     "output_type": "stream",
     "text": [
      "aaaa123\n"
     ]
    }
   ],
   "source": [
    "print(\"aaaa\"+\"123\")"
   ]
  }
 ],
 "metadata": {
  "kernelspec": {
   "display_name": "Python 3 (ipykernel)",
   "language": "python",
   "name": "python3"
  },
  "language_info": {
   "codemirror_mode": {
    "name": "ipython",
    "version": 3
   },
   "file_extension": ".py",
   "mimetype": "text/x-python",
   "name": "python",
   "nbconvert_exporter": "python",
   "pygments_lexer": "ipython3",
   "version": "3.10.4"
  },
  "orig_nbformat": 4
 },
 "nbformat": 4,
 "nbformat_minor": 2
}
